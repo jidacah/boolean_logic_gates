{
 "cells": [
  {
   "cell_type": "code",
   "execution_count": null,
   "metadata": {},
   "outputs": [],
   "source": [
    "from string import ascii_lowercase\n",
    "\n",
    "letter_list = []\n",
    "\n",
    "for letter in ascii_lowercase:\n",
    "    letter_list.append(letter)\n",
    "\n",
    "volt_pairs = [[0, 0], [0, 1], [1, 0], [1, 1]]\n",
    "    \n",
    "bool_pair_amount = 3    \n",
    "while bool_pair_amount:\n",
    "    thisdict =\t{}\n",
    "    thisdict[\"bool_pair_\" + letter_list.pop(0)] = volt_pairs.pop(0)\n",
    "    bool_pair_amount -= 1\n",
    "    for x, y in thisdict.items():\n",
    "        print(x, y)\n"
   ]
  },
  {
   "cell_type": "code",
   "execution_count": 10,
   "metadata": {},
   "outputs": [
    {
     "name": "stdout",
     "output_type": "stream",
     "text": [
      "How many boolean pairs? 3\n"
     ]
    },
    {
     "ename": "NameError",
     "evalue": "name 'raw_input' is not defined",
     "output_type": "error",
     "traceback": [
      "\u001b[0;31m---------------------------------------------------------------------------\u001b[0m",
      "\u001b[0;31mNameError\u001b[0m                                 Traceback (most recent call last)",
      "\u001b[0;32m<ipython-input-10-2f9462445325>\u001b[0m in \u001b[0;36m<module>\u001b[0;34m()\u001b[0m\n\u001b[1;32m     16\u001b[0m     \u001b[0mbool_pair\u001b[0m \u001b[0;34m=\u001b[0m \u001b[0;34m[\u001b[0m\u001b[0;34m]\u001b[0m\u001b[0;34m\u001b[0m\u001b[0m\n\u001b[1;32m     17\u001b[0m \u001b[0;34m\u001b[0m\u001b[0m\n\u001b[0;32m---> 18\u001b[0;31m     \u001b[0mbool_a\u001b[0m \u001b[0;34m=\u001b[0m \u001b[0mraw_input\u001b[0m\u001b[0;34m(\u001b[0m\u001b[0;34m\"First boolean(0/1): \"\u001b[0m\u001b[0;34m)\u001b[0m\u001b[0;34m\u001b[0m\u001b[0m\n\u001b[0m\u001b[1;32m     19\u001b[0m     \u001b[0mbool_pair\u001b[0m\u001b[0;34m.\u001b[0m\u001b[0mappend\u001b[0m\u001b[0;34m(\u001b[0m\u001b[0mbool_a\u001b[0m\u001b[0;34m)\u001b[0m\u001b[0;34m\u001b[0m\u001b[0m\n\u001b[1;32m     20\u001b[0m \u001b[0;34m\u001b[0m\u001b[0m\n",
      "\u001b[0;31mNameError\u001b[0m: name 'raw_input' is not defined"
     ]
    }
   ],
   "source": [
    "from string import ascii_lowercase\n",
    "\n",
    "var_list = []\n",
    "\n",
    "for var in ascii_lowercase:\n",
    "    var_list.append(var)\n",
    "\n",
    "#bool_pairs_inputs = [[0, 0], [0, 1], [1, 0], [1, 1]]    \n",
    "\n",
    "bool_pair_amount = int(input(\"How many boolean pairs? \"))\n",
    "while bool_pair_amount:\n",
    "    global bool_pairs_global\n",
    "    bool_pairs_global = {}\n",
    "    \n",
    "    bool_pairs_inputs = []\n",
    "    bool_pair = []   \n",
    "\n",
    "    bool_a = input(\"First boolean(0/1): \")\n",
    "    bool_pair.append(bool_a)\n",
    "    \n",
    "    bool_b = input(\"Second boolean(0/1): \")\n",
    "    bool_pair.append(bool_b)\n",
    "    \n",
    "    bool_pairs_inputs.append(bool_pair)\n",
    "    \n",
    "    bool_pairs = {}\n",
    "    bool_pairs[\"bool_pair_\" + var_list.pop(0)] = bool_pairs_inputs.pop(0)\n",
    "    for bool_key, bool_val in bool_pairs.items():\n",
    "        bool_pairs_global[bool_key] = bool_val\n",
    "        print(bool_key, bool_val)\n",
    "        \n",
    "    bool_pair.clear()\n",
    "    bool_pair_amount -= 1\n",
    "    \n",
    "print(bool_pairs_global)\n",
    "\n",
    "def add_to_bool_dict():\n",
    "    \n"
   ]
  },
  {
   "cell_type": "code",
   "execution_count": 11,
   "metadata": {},
   "outputs": [
    {
     "name": "stdout",
     "output_type": "stream",
     "text": [
      "{'Hello': 56, 'at': 23, 'test': 43, 'this': 43}\n",
      "{'Hello': 56, 'at': 23, 'test': 43, 'this': 43, 'before': 23}\n"
     ]
    }
   ],
   "source": [
    "#testing\n",
    "\n",
    "wordFreqDic = {\n",
    "    \"Hello\": 56,\n",
    "    \"at\" : 23 ,\n",
    "    \"test\" : 43,\n",
    "    \"this\" : 43\n",
    "    }\n",
    "\n",
    "print(wordFreqDic)\n",
    "\n",
    "wordFreqDic.update( {'before' : 23} )\n",
    "\n",
    "print(wordFreqDic)"
   ]
  },
  {
   "cell_type": "code",
   "execution_count": 18,
   "metadata": {},
   "outputs": [
    {
     "name": "stdout",
     "output_type": "stream",
     "text": [
      "How many boolean pairs? 3\n",
      "First boolean(0/1): 1\n",
      "Second boolean(0/1): 1\n",
      "First boolean(0/1): 1\n",
      "Second boolean(0/1): 1\n",
      "First boolean(0/1): 1\n",
      "Second boolean(0/1): 1\n",
      "{'bool_pair_a': [1, 1], 'bool_pair_b': [1, 1], 'bool_pair_c': [1, 1]}\n"
     ]
    }
   ],
   "source": [
    "# from string import ascii_lowercase\n",
    "\n",
    "var_list = [] # A variable list to be used for naming variables and creating unique variables\n",
    "\n",
    "for var in ascii_lowercase: # for each variable in the set of lowercase of ascii letters--\n",
    "    var_list.append(var) # --append that variable to the variable list\n",
    "\n",
    "#\n",
    "#\n",
    "#\n",
    "\n",
    "def request_user_bool_pairs():\n",
    "\n",
    "    bool_pair_dict = {} # Dictionary to store boolean pairs\n",
    "\n",
    "    bool_pair_amount = int(input(\"How many boolean pairs? \")) # Ask user how many boolean pairs would they like to request\n",
    "\n",
    "    while bool_pair_amount: # Keep iterating through until bool_pair_amount is exhausted\n",
    "    \n",
    "        bool_pair_list = [] # Temporary list for storing a single pair of two boolean inputs\n",
    "        bool_pair_temp = {} # Temporarily store the boolean pair in current loop\n",
    "    \n",
    "        # These lists above automatically clear through every iteration; no need to manually clear since they are set to\n",
    "        # empty or null values\n",
    "    \n",
    "        bool_a = int(input(\"First boolean(0/1): \")) # Request user first boolean\n",
    "        bool_pair_list.append(bool_a) # Add 1st boolean to temp pair list\n",
    "    \n",
    "        bool_b = int(input(\"Second boolean(0/1): \")) # Request user second boolean\n",
    "        bool_pair_list.append(bool_b) # Add 2nd boolean to temp pair list\n",
    "    \n",
    "        bool_pair_temp[\"bool_pair_\" + var_list.pop(0)] = bool_pair_list # Add boolean list into a \"key, value\" pair in temp dict\n",
    "    \n",
    "        bool_pair_dict.update(bool_pair_temp) # Add iterated temp dict to permanent dictionary\n",
    "    \n",
    "        bool_pair_amount -= 1 # Reduce bool_pair_amount by 1 after each iteration\n",
    "    \n",
    "    print(bool_pair_dict)\n",
    "    \n",
    "request_user_bool_pairs()"
   ]
  },
  {
   "cell_type": "code",
   "execution_count": null,
   "metadata": {},
   "outputs": [],
   "source": []
  }
 ],
 "metadata": {
  "kernelspec": {
   "display_name": "Python 3",
   "language": "python",
   "name": "python3"
  },
  "language_info": {
   "codemirror_mode": {
    "name": "ipython",
    "version": 3
   },
   "file_extension": ".py",
   "mimetype": "text/x-python",
   "name": "python",
   "nbconvert_exporter": "python",
   "pygments_lexer": "ipython3",
   "version": "3.6.5"
  }
 },
 "nbformat": 4,
 "nbformat_minor": 2
}
